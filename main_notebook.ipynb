{
 "cells": [
  {
   "cell_type": "markdown",
   "id": "380bb02a",
   "metadata": {},
   "source": [
    "This script is an intro to the Energyplus Python API  \n",
    "It demonestrates how to run energyplus from a python script  \n",
    "Prepared by Hussein Elehwany 20/07/2023"
   ]
  },
  {
   "cell_type": "code",
   "execution_count": 1,
   "id": "d7b261b1",
   "metadata": {},
   "outputs": [],
   "source": [
    "import sys\n",
    "sys.path.insert(0, 'C:\\EnergyPlusV9-6-0')  # add E-Plus directory to path to be able to import API\n",
    "from pyenergyplus.api import EnergyPlusAPI #import EnergyPlus library"
   ]
  },
  {
   "cell_type": "code",
   "execution_count": 2,
   "id": "8e10234c",
   "metadata": {},
   "outputs": [],
   "source": [
    "def my_callback_function(state):\n",
    "    pass\n"
   ]
  },
  {
   "cell_type": "code",
   "execution_count": 3,
   "id": "23b8dd37",
   "metadata": {},
   "outputs": [],
   "source": [
    "# initializations\n",
    "heatingSch_hndl = 0\n",
    "coolingSch_hndl = 0\n",
    "outdoorT_hndl = 0\n",
    "indoorT_hndl = 0\n",
    "heat_coil_hndl = 0\n",
    "handleDone = False"
   ]
  },
  {
   "cell_type": "code",
   "execution_count": 5,
   "id": "47fd34c2",
   "metadata": {},
   "outputs": [
    {
     "name": "stdout",
     "output_type": "stream",
     "text": [
      "Handles done: False\n"
     ]
    }
   ],
   "source": [
    "# initialize EPlus\n",
    "api = EnergyPlusAPI()\n",
    "#instance of the simulation\n",
    "state = api.state_manager.new_state() \n",
    "# energyplus model calling point, callback function\n",
    "api.runtime.callback_begin_system_timestep_before_predictor(state , my_callback_function)\n",
    "# run EPlus\n",
    "epwFile = 'ON_OTTAWA-INTL-ONT_716280_19.epw'\n",
    "idfFile = 'Shoebox.idf'\n",
    "output_folder = 'out'\n",
    "# -x short form to run expandobjects for HVACtemplates. see EnergyPlusEssentials.pdf p16\n",
    "cmd_args = ['-w',epwFile, '-d', output_folder,'-x',idfFile]\n",
    "api.runtime.run_energyplus(state,cmd_args)\n",
    "\n",
    "print(\"Handles done: {}\".format(handleDone))"
   ]
  },
  {
   "cell_type": "markdown",
   "id": "3c4d21e5",
   "metadata": {},
   "source": [
    "# Handles"
   ]
  },
  {
   "cell_type": "code",
   "execution_count": 29,
   "id": "a799ce7a",
   "metadata": {},
   "outputs": [],
   "source": [
    "def my_callback_function(state):\n",
    "    # global variables are necessary as the callback function takes only one input: state\n",
    "    global indoorT_hndl, handleDone\n",
    "    # get handles\n",
    "    if not handleDone:\n",
    "        if api.exchange.api_data_fully_ready(state):\n",
    "            indoorT_hndl = api.exchange.get_variable_handle(state,'Zone Mean Air Temperature', 'Zone1')\n",
    "            if -1 in [heatingSch_hndl, coolingSch_hndl, indoorT_hndl, heat_coil_hndl]:\n",
    "                sys.exit(1)\n",
    "            handleDone = True\n",
    "        else:\n",
    "            return"
   ]
  },
  {
   "cell_type": "markdown",
   "id": "0bdc778e",
   "metadata": {},
   "source": [
    "# Actuator handles"
   ]
  },
  {
   "cell_type": "code",
   "execution_count": null,
   "id": "6e3b8dce",
   "metadata": {},
   "outputs": [],
   "source": [
    "def my_callback_function(state):\n",
    "    # global variables are necessary as the callback function takes only one input: state\n",
    "    global heatingSch_hndl, coolingSch_hndl,indoorT_hndl,outdoorT_hndl,heat_coil_hndl, handleDone\n",
    "    get handles\n",
    "    if not handleDone:\n",
    "        if api.exchange.api_data_fully_ready(state):\n",
    "            heatingSch_hndl = api.exchange.get_actuator_handle(state, \"Schedule:Constant\", \"Schedule Value\", \"HeatingSch\")\n",
    "            coolingSch_hndl = api.exchange.get_actuator_handle(state, \"Schedule:Constant\", \"Schedule Value\", \"CoolingSch\")\n",
    "            outdoorT_hndl = api.exchange.get_variable_handle(state,'Site Outdoor Air Drybulb Temperature', 'Environment')\n",
    "            indoorT_hndl = api.exchange.get_variable_handle(state,'Zone Mean Air Temperature', 'Zone1')\n",
    "            heat_coil_hndl = api.exchange.get_meter_handle(state,'HeatingCoils:EnergyTransfer')\n",
    "            if -1 in [heatingSch_hndl, coolingSch_hndl, indoorT_hndl, heat_coil_hndl]:\n",
    "                sys.exit(1)\n",
    "            handleDone = True\n",
    "        else:\n",
    "            return\n",
    "    "
   ]
  },
  {
   "cell_type": "markdown",
   "id": "550f3b39",
   "metadata": {},
   "source": [
    "# Get variable and meter values "
   ]
  },
  {
   "cell_type": "code",
   "execution_count": 10,
   "id": "0c33a830",
   "metadata": {},
   "outputs": [],
   "source": [
    "def my_callback_function(state):\n",
    "    # global variables are necessary as the callback function takes only one input: state\n",
    "    global heatingSch_hndl, coolingSch_hndl,indoorT_hndl,outdoorT_hndl,heat_coil_hndl, handleDone\n",
    "    # get handles\n",
    "    if not handleDone:\n",
    "        if api.exchange.api_data_fully_ready(state):\n",
    "            heatingSch_hndl = api.exchange.get_actuator_handle(state, \"Schedule:Constant\", \"Schedule Value\", \"HeatingSch\")\n",
    "            coolingSch_hndl = api.exchange.get_actuator_handle(state, \"Schedule:Constant\", \"Schedule Value\", \"CoolingSch\")\n",
    "            outdoorT_hndl = api.exchange.get_variable_handle(state,'Site Outdoor Air Drybulb Temperature', 'Environment')\n",
    "            indoorT_hndl = api.exchange.get_variable_handle(state,'Zone Mean Air Temperature', 'Zone1')\n",
    "            heat_coil_hndl = api.exchange.get_meter_handle(state,'HeatingCoils:EnergyTransfer')\n",
    "            if -1 in [heatingSch_hndl, coolingSch_hndl, indoorT_hndl, heat_coil_hndl]:\n",
    "                sys.exit(1)\n",
    "            handleDone = True\n",
    "        else:\n",
    "            return\n",
    "    \n",
    "    # exchange information with EnergyPlus\n",
    "    month = api.exchange.month(state) \n",
    "    \n",
    "    # read variables\n",
    "    outdoor_temp = api.exchange.get_variable_value(state, outdoorT_hndl)\n",
    "    indoor_temp = api.exchange.get_variable_value(state, indoorT_hndl)\n",
    "    print(outdoor_temp, indoor_temp)\n",
    "    \n",
    "    # read meters\n",
    "    heating_coils = api.exchange.get_meter_value(state, heat_coil_hndl)\n",
    "    "
   ]
  },
  {
   "cell_type": "markdown",
   "id": "2c804a8f",
   "metadata": {},
   "source": [
    "# Write to actuators"
   ]
  },
  {
   "cell_type": "code",
   "execution_count": 14,
   "id": "81b663ee",
   "metadata": {},
   "outputs": [],
   "source": [
    "def my_callback_function(state):\n",
    "    # global variables are necessary as the callback function takes only one input: state\n",
    "    global heatingSch_hndl, coolingSch_hndl,indoorT_hndl,outdoorT_hndl,heat_coil_hndl, handleDone\n",
    "    # get handles\n",
    "    if not handleDone:\n",
    "        if api.exchange.api_data_fully_ready(state):\n",
    "            heatingSch_hndl = api.exchange.get_actuator_handle(state, \"Schedule:Constant\", \"Schedule Value\", \"HeatingSch\")\n",
    "            coolingSch_hndl = api.exchange.get_actuator_handle(state, \"Schedule:Constant\", \"Schedule Value\", \"CoolingSch\")\n",
    "            outdoorT_hndl = api.exchange.get_variable_handle(state,'Site Outdoor Air Drybulb Temperature', 'Environment')\n",
    "            indoorT_hndl = api.exchange.get_variable_handle(state,'Zone Mean Air Temperature', 'Zone1')\n",
    "            heat_coil_hndl = api.exchange.get_meter_handle(state,'HeatingCoils:EnergyTransfer')\n",
    "            if -1 in [heatingSch_hndl, coolingSch_hndl, indoorT_hndl, heat_coil_hndl]:\n",
    "                sys.exit(1)\n",
    "            handleDone = True\n",
    "        else:\n",
    "            return\n",
    "    \n",
    "    # exchange information with EnergyPlus\n",
    "    month = api.exchange.month(state) \n",
    "    \n",
    "    # read variables\n",
    "    outdoor_temp = api.exchange.get_variable_value(state, outdoorT_hndl)\n",
    "    indoor_temp = api.exchange.get_variable_value(state, indoorT_hndl)\n",
    "    # print(indoor_temp, outdoor_temp)\n",
    "    \n",
    "    # read meters\n",
    "    heating_coils = api.exchange.get_meter_value(state, heat_coil_hndl)\n",
    "    \n",
    "    # actuate\n",
    "    if month < 4 or month > 10:\n",
    "        api.exchange.set_actuator_value(state, heatingSch_hndl, 1)\n",
    "        api.exchange.set_actuator_value(state, coolingSch_hndl, 0)\n",
    "        print(\"heating\")\n",
    "    else:\n",
    "        api.exchange.set_actuator_value(state, heatingSch_hndl, 0)\n",
    "        api.exchange.set_actuator_value(state, coolingSch_hndl, 1)\n",
    "        print(\"cooling\")\n",
    "    \n",
    "\n"
   ]
  },
  {
   "cell_type": "code",
   "execution_count": null,
   "id": "30550406",
   "metadata": {},
   "outputs": [],
   "source": []
  }
 ],
 "metadata": {
  "kernelspec": {
   "display_name": "Python 3 (ipykernel)",
   "language": "python",
   "name": "python3"
  },
  "language_info": {
   "codemirror_mode": {
    "name": "ipython",
    "version": 3
   },
   "file_extension": ".py",
   "mimetype": "text/x-python",
   "name": "python",
   "nbconvert_exporter": "python",
   "pygments_lexer": "ipython3",
   "version": "3.9.7"
  }
 },
 "nbformat": 4,
 "nbformat_minor": 5
}
