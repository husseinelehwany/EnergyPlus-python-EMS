{
 "cells": [
  {
   "cell_type": "markdown",
   "id": "2c804a8f",
   "metadata": {},
   "source": [
    "# Write to actuators"
   ]
  },
  {
   "cell_type": "code",
   "execution_count": 3,
   "id": "ed536d3a",
   "metadata": {},
   "outputs": [],
   "source": [
    "import pandas as pd\n",
    "import matplotlib.pyplot as plt\n",
    "import matplotlib.dates as mdates\n",
    "import datetime as dt\n",
    "%matplotlib qt\n",
    "import sys\n",
    "sys.path.insert(0, 'C:\\EnergyPlusV23-1-0')  # add E-Plus directory to path to be able to import API\n",
    "from pyenergyplus.api import EnergyPlusAPI #import EnergyPlus library"
   ]
  },
  {
   "cell_type": "code",
   "execution_count": 4,
   "id": "24b5935e",
   "metadata": {},
   "outputs": [],
   "source": [
    "# initializations\n",
    "heatingSch_hndl = 0\n",
    "coolingSch_hndl = 0\n",
    "heatingSP_hndl = 0\n",
    "coolingSP_hndl = 0\n",
    "outdoorT_hndl = 0\n",
    "indoorT_hndl = 0\n",
    "heat_coil_hndl = 0\n",
    "handleDone = False"
   ]
  },
  {
   "cell_type": "code",
   "execution_count": 5,
   "id": "81b663ee",
   "metadata": {},
   "outputs": [],
   "source": [
    "def my_callback_function(state):\n",
    "    # global variables are necessary as the callback function takes only one input: state\n",
    "    global heatingSch_hndl, coolingSch_hndl,heatingSP_hndl,coolingSP_hndl,indoorT_hndl,outdoorT_hndl,heat_coil_hndl, handleDone\n",
    "    # get handles\n",
    "    if not handleDone:\n",
    "        if api.exchange.api_data_fully_ready(state):\n",
    "            heatingSch_hndl = api.exchange.get_actuator_handle(state, \"Schedule:Constant\", \"Schedule Value\", \"HeatingSch\")\n",
    "            coolingSch_hndl = api.exchange.get_actuator_handle(state, \"Schedule:Constant\", \"Schedule Value\", \"CoolingSch\")\n",
    "            heatingSP_hndl = api.exchange.get_actuator_handle(state, \"Schedule:Constant\", \"Schedule Value\", \"hSP\")\n",
    "            coolingSP_hndl = api.exchange.get_actuator_handle(state, \"Schedule:Constant\", \"Schedule Value\", \"cSP\")\n",
    "            outdoorT_hndl = api.exchange.get_variable_handle(state,'Site Outdoor Air Drybulb Temperature', 'Environment')\n",
    "            indoorT_hndl = api.exchange.get_variable_handle(state,'Zone Mean Air Temperature', 'Zone1')\n",
    "            heat_coil_hndl = api.exchange.get_meter_handle(state,'HeatingCoils:EnergyTransfer')\n",
    "            if -1 in [heatingSch_hndl, coolingSch_hndl, indoorT_hndl, heat_coil_hndl]:\n",
    "                sys.exit(1)\n",
    "            handleDone = True\n",
    "        else:\n",
    "            return\n",
    "    \n",
    "    # exchange information with EnergyPlus\n",
    "    month = api.exchange.month(state)\n",
    "    time = api.exchange.current_time(state) \n",
    "    \n",
    "    # read variables\n",
    "    outdoor_temp = api.exchange.get_variable_value(state, outdoorT_hndl)\n",
    "    indoor_temp = api.exchange.get_variable_value(state, indoorT_hndl)\n",
    "    # print(indoor_temp, outdoor_temp)\n",
    "    \n",
    "    # read meters\n",
    "    heating_coils = api.exchange.get_meter_value(state, heat_coil_hndl)\n",
    "    \n",
    "    # change setpoints\n",
    "    heating_SP = 18\n",
    "    cooling_SP = 27\n",
    "    \n",
    "    # actuate\n",
    "    if month < 4 or month > 10:  # winter\n",
    "        api.exchange.set_actuator_value(state, heatingSch_hndl, 0)\n",
    "        api.exchange.set_actuator_value(state, coolingSch_hndl, 1)\n",
    "        \n",
    "        if 6<= time < 7:\n",
    "            heating_SP = 22\n",
    "        elif 7<= time < 11:\n",
    "            heating_SP = 19\n",
    "        elif 11<= time < 17:\n",
    "            heating_SP = 21\n",
    "        \n",
    "        api.exchange.set_actuator_value(state, heatingSP_hndl, heating_SP)\n",
    "        api.exchange.set_actuator_value(state, coolingSP_hndl, cooling_SP)\n",
    "        \n",
    "    else:  # summer\n",
    "        api.exchange.set_actuator_value(state, heatingSch_hndl, 1)\n",
    "        api.exchange.set_actuator_value(state, coolingSch_hndl, 0)\n",
    "        if 6<= time < 7:\n",
    "            cooling_SP = 23\n",
    "        elif 7<= time < 10:\n",
    "            cooling_SP = 25\n",
    "        elif 10<= time < 11:\n",
    "            cooling_SP = 23\n",
    "        elif 11<= time < 17:\n",
    "            cooling_SP = 25\n",
    "        \n",
    "        api.exchange.set_actuator_value(state, heatingSP_hndl, heating_SP)\n",
    "        api.exchange.set_actuator_value(state, coolingSP_hndl, cooling_SP)\n",
    "        \n",
    "    "
   ]
  },
  {
   "cell_type": "code",
   "execution_count": 6,
   "id": "30550406",
   "metadata": {},
   "outputs": [
    {
     "name": "stdout",
     "output_type": "stream",
     "text": [
      "Handles done: True\n"
     ]
    }
   ],
   "source": [
    "# initialize EPlus\n",
    "api = EnergyPlusAPI()\n",
    "\n",
    "#instance of the simulation\n",
    "state = api.state_manager.new_state() \n",
    "\n",
    "# energyplus model calling point, callback function\n",
    "api.runtime.callback_begin_system_timestep_before_predictor(state , my_callback_function)\n",
    "\n",
    "# run EPlus\n",
    "epwFile = 'ON_OTTAWA-INTL-ONT_716280_19.epw'\n",
    "idfFile = 'Shoebox.idf'\n",
    "output_folder = 'out'\n",
    "# -x short form to run expandobjects for HVACtemplates. see EnergyPlusEssentials.pdf p16\n",
    "cmd_args = ['-w',epwFile, '-d', output_folder,'-x',idfFile]\n",
    "api.runtime.run_energyplus(state,cmd_args)\n",
    "\n",
    "# delete state after simulation to free the memory\n",
    "api.state_manager.delete_state(state)\n",
    "\n",
    "print(\"Handles done: {}\".format(handleDone))"
   ]
  },
  {
   "cell_type": "code",
   "execution_count": 7,
   "id": "31223b69",
   "metadata": {},
   "outputs": [],
   "source": [
    "df = pd.read_csv(\"out/eplusout.csv\")\n",
    "df[\"timestamps\"] = pd.date_range(start=\"2019/1/1 01:00\", end=\"2020/1/1 00:00\", freq='H')\n",
    "df.set_index(\"timestamps\", inplace=True)\n",
    "\n",
    "fig, ax = plt.subplots(2,1)\n",
    "ax[0].plot(df[\"ZONE1:Zone Thermostat Heating Setpoint Temperature [C](Hourly)\"], drawstyle='steps-post')\n",
    "ax[0].set_xlim([dt.datetime(2019,1,1,0,0,0),dt.datetime(2019,1,2,0,0,0)])\n",
    "ax[0].xaxis.set_major_formatter(mdates.DateFormatter('%H:%M'))\n",
    "\n",
    "ax[1].plot(df[\"ZONE1:Zone Thermostat Cooling Setpoint Temperature [C](Hourly)\"], drawstyle='steps-post')\n",
    "ax[1].set_xlim([dt.datetime(2019,7,1,0,0,0),dt.datetime(2019,7,2,0,0,0)])\n",
    "ax[1].xaxis.set_major_formatter(mdates.DateFormatter('%H:%M'))\n"
   ]
  },
  {
   "cell_type": "markdown",
   "id": "d85298e8",
   "metadata": {},
   "source": [
    "# Demand load control schedule"
   ]
  },
  {
   "cell_type": "code",
   "execution_count": 58,
   "id": "af34b3e8",
   "metadata": {},
   "outputs": [
    {
     "data": {
      "text/plain": [
       "[Text(0, 0.5, 'Heating setpoint [$^\\\\circ$C]')]"
      ]
     },
     "execution_count": 58,
     "metadata": {},
     "output_type": "execute_result"
    }
   ],
   "source": [
    "import pandas as pd\n",
    "import matplotlib.pyplot as plt\n",
    "import matplotlib.dates as mdates\n",
    "%matplotlib qt\n",
    "time_range = pd.date_range(start=\"04:00\", end=\"20:00\", freq='H')\n",
    "\n",
    "fig, ax = plt.subplots(2,1)\n",
    "values = [9,9,9, 18, 18, 18, 18, 12,12,12,12 ,12,12,18,18,9,9]\n",
    "ax[0].plot(time_range, values, drawstyle='steps-post')\n",
    "ax[0].set_xticks(pd.date_range(start=\"04:00\", end=\"20:00\", freq='2H'), rotation=45)\n",
    "ax[0].xaxis.set_major_formatter(mdates.DateFormatter('%H:%M'))\n",
    "ax[0].set(ylabel=\"Electricity rate [c\\kWh]\", title=\"Heating season\")\n",
    "values = [18,18,22, 19, 19, 19, 19, 21,21,21,21 ,21,21,18,18,18,18]\n",
    "ax[1].plot(time_range, values, color=\"r\", drawstyle='steps-post')\n",
    "ax[1].set_xticks(pd.date_range(start=\"04:00\", end=\"20:00\", freq='2H'), rotation=45)\n",
    "ax[1].xaxis.set_major_formatter(mdates.DateFormatter('%H:%M'))\n",
    "ax[1].set(ylabel=\"Heating setpoint [$^\\circ$C]\")\n"
   ]
  },
  {
   "cell_type": "code",
   "execution_count": 59,
   "id": "b8d83c22",
   "metadata": {},
   "outputs": [
    {
     "data": {
      "text/plain": [
       "[Text(0, 0.5, 'Cooling setpoint [$^\\\\circ$C]')]"
      ]
     },
     "execution_count": 59,
     "metadata": {},
     "output_type": "execute_result"
    }
   ],
   "source": [
    "time_range = pd.date_range(start=\"04:00\", end=\"20:00\", freq='H')\n",
    "\n",
    "fig, ax = plt.subplots(2,1)\n",
    "values = [9,9,9, 12, 12, 12, 12, 18,18,18,18 ,18,18,12,12,9,9]\n",
    "ax[0].plot(time_range, values, drawstyle='steps-post')\n",
    "ax[0].set_xticks(pd.date_range(start=\"04:00\", end=\"20:00\", freq='2H'), rotation=45)\n",
    "ax[0].xaxis.set_major_formatter(mdates.DateFormatter('%H:%M'))\n",
    "ax[0].set(ylabel=\"Electricity rate [c\\kWh]\", title=\"Cooling season\")\n",
    "values = [27,27,23, 25, 25, 25, 23, 25,25,25,25 ,25,25,27,27,27,27]\n",
    "ax[1].plot(time_range, values, color=\"r\", drawstyle='steps-post')\n",
    "ax[1].set_xticks(pd.date_range(start=\"04:00\", end=\"20:00\", freq='2H'), rotation=45)\n",
    "ax[1].xaxis.set_major_formatter(mdates.DateFormatter('%H:%M'))\n",
    "ax[1].set(ylabel=\"Cooling setpoint [$^\\circ$C]\")\n"
   ]
  }
 ],
 "metadata": {
  "kernelspec": {
   "display_name": "Python 3 (ipykernel)",
   "language": "python",
   "name": "python3"
  },
  "language_info": {
   "codemirror_mode": {
    "name": "ipython",
    "version": 3
   },
   "file_extension": ".py",
   "mimetype": "text/x-python",
   "name": "python",
   "nbconvert_exporter": "python",
   "pygments_lexer": "ipython3",
   "version": "3.9.7"
  }
 },
 "nbformat": 4,
 "nbformat_minor": 5
}
